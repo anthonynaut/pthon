{
 "cells": [
  {
   "cell_type": "code",
   "execution_count": 52,
   "id": "4afbbefd",
   "metadata": {
    "scrolled": true
   },
   "outputs": [
    {
     "name": "stdout",
     "output_type": "stream",
     "text": [
      "Hello, Anthony my guy!\n"
     ]
    }
   ],
   "source": [
    "def hello_name(user_name):\n",
    "    \"\"\"Show Hello Anthony\"\"\"\n",
    "    \n",
    "    print(\"Hello, \" + user_name.title()+\" my guy!\")\n",
    "\n",
    "hello_name('Anthony')"
   ]
  },
  {
   "cell_type": "code",
   "execution_count": 21,
   "id": "6100632b",
   "metadata": {
    "scrolled": false
   },
   "outputs": [
    {
     "name": "stdout",
     "output_type": "stream",
     "text": [
      "Enter value : 100\n",
      "\n",
      "\n",
      "1\n",
      "\n",
      "\n",
      "3\n",
      "\n",
      "\n",
      "5\n",
      "\n",
      "\n",
      "7\n",
      "\n",
      "\n",
      "9\n",
      "\n",
      "\n",
      "11\n",
      "\n",
      "\n",
      "13\n",
      "\n",
      "\n",
      "15\n",
      "\n",
      "\n",
      "17\n",
      "\n",
      "\n",
      "19\n",
      "\n",
      "\n",
      "21\n",
      "\n",
      "\n",
      "23\n",
      "\n",
      "\n",
      "25\n",
      "\n",
      "\n",
      "27\n",
      "\n",
      "\n",
      "29\n",
      "\n",
      "\n",
      "31\n",
      "\n",
      "\n",
      "33\n",
      "\n",
      "\n",
      "35\n",
      "\n",
      "\n",
      "37\n",
      "\n",
      "\n",
      "39\n",
      "\n",
      "\n",
      "41\n",
      "\n",
      "\n",
      "43\n",
      "\n",
      "\n",
      "45\n",
      "\n",
      "\n",
      "47\n",
      "\n",
      "\n",
      "49\n",
      "\n",
      "\n",
      "51\n",
      "\n",
      "\n",
      "53\n",
      "\n",
      "\n",
      "55\n",
      "\n",
      "\n",
      "57\n",
      "\n",
      "\n",
      "59\n",
      "\n",
      "\n",
      "61\n",
      "\n",
      "\n",
      "63\n",
      "\n",
      "\n",
      "65\n",
      "\n",
      "\n",
      "67\n",
      "\n",
      "\n",
      "69\n",
      "\n",
      "\n",
      "71\n",
      "\n",
      "\n",
      "73\n",
      "\n",
      "\n",
      "75\n",
      "\n",
      "\n",
      "77\n",
      "\n",
      "\n",
      "79\n",
      "\n",
      "\n",
      "81\n",
      "\n",
      "\n",
      "83\n",
      "\n",
      "\n",
      "85\n",
      "\n",
      "\n",
      "87\n",
      "\n",
      "\n",
      "89\n",
      "\n",
      "\n",
      "91\n",
      "\n",
      "\n",
      "93\n",
      "\n",
      "\n",
      "95\n",
      "\n",
      "\n",
      "97\n",
      "\n",
      "\n",
      "99\n"
     ]
    }
   ],
   "source": [
    "num=int(input(\"Enter value : \"))\n",
    " \n",
    "for odds in range(1, num + 1, 2):\n",
    "        print(\"\\n\\n{}\".format(odds))\n",
    "\n",
    "        #could've done while, but I went 4 a for loop and if statement.\n",
    "        #removed if statement\n",
    "        #fixed [] to {} \n",
    "        "
   ]
  },
  {
   "cell_type": "code",
   "execution_count": 51,
   "id": "74a2d073",
   "metadata": {},
   "outputs": [
    {
     "name": "stdout",
     "output_type": "stream",
     "text": [
      "30\n"
     ]
    }
   ],
   "source": [
    "def max_num_in_list(a_list ):\n",
    "    max=a_list[6]\n",
    "    for num in a_list:\n",
    "        if num>max:\n",
    "            max=num\n",
    "    return max\n",
    "print(max_num_in_list([-4*9, 9*2/4*5, 40/3, -45, -60*1.5, 100-70, 0]))\n",
    "\n",
    "\n",
    "#made for loop for num in a_list including an if statement\n",
    "\n"
   ]
  },
  {
   "cell_type": "code",
   "execution_count": 9,
   "id": "63e34c30",
   "metadata": {},
   "outputs": [
    {
     "name": "stdout",
     "output_type": "stream",
     "text": [
      "False\n"
     ]
    }
   ],
   "source": [
    "from calendar import isleap\n",
    "print(isleap(2021))  \n",
    "\n",
    "\n",
    "#loaded python module calendar \n",
    "#imported isleap method\n",
    "#used isleap() method to display boolean answer\n",
    "#not sure what the given year was, but I went with the current year 2021!"
   ]
  },
  {
   "cell_type": "code",
   "execution_count": 47,
   "id": "952ffd4b",
   "metadata": {},
   "outputs": [
    {
     "name": "stdout",
     "output_type": "stream",
     "text": [
      "True\n"
     ]
    }
   ],
   "source": [
    "def is_consecutive(a_list):\n",
    "    \n",
    "    return sorted(a_list)==list(range(min(a_list), max(a_list)+1))\n",
    "    \n",
    "num=[1, 2, 3, 4, 5, 6, 7, 8, 9, 10]\n",
    "print(is_consecutive(num))\n",
    "\n",
    "#True"
   ]
  },
  {
   "cell_type": "code",
   "execution_count": null,
   "id": "14a93e2a",
   "metadata": {},
   "outputs": [],
   "source": []
  }
 ],
 "metadata": {
  "kernelspec": {
   "display_name": "Python 3",
   "language": "python",
   "name": "python3"
  },
  "language_info": {
   "codemirror_mode": {
    "name": "ipython",
    "version": 3
   },
   "file_extension": ".py",
   "mimetype": "text/x-python",
   "name": "python",
   "nbconvert_exporter": "python",
   "pygments_lexer": "ipython3",
   "version": "3.9.2"
  }
 },
 "nbformat": 4,
 "nbformat_minor": 5
}